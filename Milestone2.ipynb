{
  "nbformat": 4,
  "nbformat_minor": 0,
  "metadata": {
    "colab": {
      "provenance": [],
      "authorship_tag": "ABX9TyOGnnZAf9QcQ1Ysb4sg5h3Y",
      "include_colab_link": true
    },
    "kernelspec": {
      "name": "python3",
      "display_name": "Python 3"
    },
    "language_info": {
      "name": "python"
    }
  },
  "cells": [
    {
      "cell_type": "markdown",
      "metadata": {
        "id": "view-in-github",
        "colab_type": "text"
      },
      "source": [
        "<a href=\"https://colab.research.google.com/github/LeWEn22/CS-101/blob/main/Milestone2.ipynb\" target=\"_parent\"><img src=\"https://colab.research.google.com/assets/colab-badge.svg\" alt=\"Open In Colab\"/></a>"
      ]
    },
    {
      "cell_type": "code",
      "execution_count": 1,
      "metadata": {
        "colab": {
          "base_uri": "https://localhost:8080/"
        },
        "id": "L-5m8GUy32WW",
        "outputId": "8ec34e87-58a5-4d33-9615-f9715d0a6ddf"
      },
      "outputs": [
        {
          "output_type": "execute_result",
          "data": {
            "text/plain": [
              "[2, 6, 8]"
            ]
          },
          "metadata": {},
          "execution_count": 1
        }
      ],
      "source": [
        "def find_splice(dna_motif,dna):\n",
        "  result=[]\n",
        "  index=0\n",
        "  for i in range(len(dna_motif)):\n",
        "    while dna[index]!=dna_motif[i]:\n",
        "      index+=1\n",
        "    result.append(index)\n",
        "    index+=1\n",
        "  return result\n",
        "# test\n",
        "find_splice(\"GTA\",\"ACGACATCACGTGACG\")"
      ]
    },
    {
      "cell_type": "code",
      "source": [
        "def is_substr(sub,dna):\n",
        "  for i in range(len(dna)):\n",
        "    if sub not in dna[i]:\n",
        "      return False\n",
        "  return True\n",
        "def shared_motif(dna_list):\n",
        "  substr=\"\"\n",
        "  for i in range(len(dna_list[0])):\n",
        "    for j in range(len(dna_list[0])-i+1):\n",
        "      if j>len(substr) and is_substr(dna_list[0][i:i+j],dna_list):\n",
        "        substr=dna_list[0][i:i+j]\n",
        "  return substr\n",
        "# test\n",
        "arr=[\"GATTACA\",\"TAGACCA\",\"ATACA\"]\n",
        "shared_motif(arr)"
      ],
      "metadata": {
        "colab": {
          "base_uri": "https://localhost:8080/",
          "height": 37
        },
        "id": "NlhYrloh4Z8j",
        "outputId": "af5b1b00-c963-43dc-bf77-31bfe461814b"
      },
      "execution_count": 20,
      "outputs": [
        {
          "output_type": "execute_result",
          "data": {
            "text/plain": [
              "'TA'"
            ],
            "application/vnd.google.colaboratory.intrinsic+json": {
              "type": "string"
            }
          },
          "metadata": {},
          "execution_count": 20
        }
      ]
    },
    {
      "cell_type": "code",
      "source": [
        "def get_edges(dna_dict):\n",
        "  adj_list=[]\n",
        "  for key1,dna1 in dna_dict.items():\n",
        "    for key2,dna2 in dna_dict.items():\n",
        "      if key1!=key2 and dna1[-3:]==dna2[:3]:\n",
        "        adj_list.append((key1,key2))\n",
        "  return adj_list\n",
        "# test\n",
        "get_edges({\n",
        "  \"Rosalind_0498\" : \"AAATAAA\",\n",
        "  \"Rosalind_2391\" : \"AAATTTT\",\n",
        "  \"Rosalind_2323\" : \"TTTTCCC\",\n",
        "  \"Rosalind_0442\" : \"AAATCCC\",\n",
        "  \"Rosalind_5013\" : \"GGGTGGG\"\n",
        "})"
      ],
      "metadata": {
        "colab": {
          "base_uri": "https://localhost:8080/"
        },
        "id": "QanBIeT_BSch",
        "outputId": "f3e092b5-8381-459b-ded9-50c21b5804cb"
      },
      "execution_count": 18,
      "outputs": [
        {
          "output_type": "execute_result",
          "data": {
            "text/plain": [
              "[('Rosalind_0498', 'Rosalind_2391'),\n",
              " ('Rosalind_0498', 'Rosalind_0442'),\n",
              " ('Rosalind_2391', 'Rosalind_2323')]"
            ]
          },
          "metadata": {},
          "execution_count": 18
        }
      ]
    },
    {
      "cell_type": "code",
      "source": [
        "def assemble_genome(dna_list):\n",
        "  str=dna_list[0]\n",
        "  for i in range(1,len(dna_list)):\n",
        "    dna=dna_list[i]\n",
        "    for j in range(0,len(dna)):\n",
        "      if dna[0:j+1] not in str:\n",
        "        str+=dna[j:len(dna)]\n",
        "        break\n",
        "  return str\n",
        "# test\n",
        "assemble_genome([\n",
        "\"ATTAGACCTG\",\n",
        "\"CCTGCCGGAA\",\n",
        "\"AGACCTGCCG\",\n",
        "\"GCCGGAATAC\"\n",
        "])"
      ],
      "metadata": {
        "colab": {
          "base_uri": "https://localhost:8080/",
          "height": 37
        },
        "id": "ytEVFsKKE9XY",
        "outputId": "94f96e1b-fd21-4264-bb23-1fac9e7959ba"
      },
      "execution_count": 24,
      "outputs": [
        {
          "output_type": "execute_result",
          "data": {
            "text/plain": [
              "'ATTAGACCTGCCGGAATAC'"
            ],
            "application/vnd.google.colaboratory.intrinsic+json": {
              "type": "string"
            }
          },
          "metadata": {},
          "execution_count": 24
        }
      ]
    },
    {
      "cell_type": "code",
      "source": [
        "def fact(n):\n",
        "  if n==1 or n==0:\n",
        "    return 1\n",
        "  return n*fact(n-1)\n",
        "def perfect_match(rna):\n",
        "  d={\"A\":0,\"C\":0,\"G\":0,\"U\":0}\n",
        "  for i in rna:\n",
        "    d[i]+=1\n",
        "  if d[\"A\"]==d[\"U\"] & d[\"C\"]==d[\"G\"]:\n",
        "    return fact(d[\"A\"])*fact(d[\"C\"])\n",
        "  else:\n",
        "    return \"Perfect Match doesn't exist\"\n",
        "# test\n",
        "perfect_match(\"CACUAGUGCGAU\")"
      ],
      "metadata": {
        "colab": {
          "base_uri": "https://localhost:8080/"
        },
        "id": "Nmuh-HCkGTck",
        "outputId": "e8257a69-c353-4fb4-edbb-ed530a916bc5"
      },
      "execution_count": 8,
      "outputs": [
        {
          "output_type": "execute_result",
          "data": {
            "text/plain": [
              "36"
            ]
          },
          "metadata": {},
          "execution_count": 8
        }
      ]
    },
    {
      "cell_type": "code",
      "source": [
        "import math\n",
        "def random_genome(dna,gc_content):\n",
        "  dna=dna.upper()\n",
        "  cg=len(dna.replace(\"A\",\"\").replace(\"T\",\"\"))\n",
        "  at=len(dna.replace(\"C\",\"\").replace(\"G\",\"\"))\n",
        "  result=[]\n",
        "  for i in range(0,len(gc_content)):\n",
        "    prob=cg*math.log10(float(gc_content[i])/2)+at*math.log10((1-float(gc_content[i]))/2)\n",
        "    result.append(round(prob,3))\n",
        "  return result\n",
        "# test\n",
        "random_genome(\"ACGATACAA\",[0.129, 0.287, 0.423, 0.476, 0.641, 0.742, 0.783])"
      ],
      "metadata": {
        "colab": {
          "base_uri": "https://localhost:8080/"
        },
        "id": "W7VDKgFAr1Rv",
        "outputId": "d0f5739f-1768-4f83-d8ef-2216f5f93e8e"
      },
      "execution_count": 11,
      "outputs": [
        {
          "output_type": "execute_result",
          "data": {
            "text/plain": [
              "[-5.737, -5.217, -5.263, -5.36, -5.958, -6.628, -7.009]"
            ]
          },
          "metadata": {},
          "execution_count": 11
        }
      ]
    },
    {
      "cell_type": "code",
      "source": [
        "def rna2dna(rna):\n",
        "    dna = ''\n",
        "    for symbol in rna:\n",
        "        if symbol =='A':\n",
        "            dna = dna + 'T'\n",
        "        elif symbol == 'C':\n",
        "            dna = dna + 'G'\n",
        "        elif symbol == 'G':\n",
        "            dna = dna + 'C'\n",
        "        elif symbol == 'U':\n",
        "            dna = dna +'A'\n",
        "        elif symbol == 'T':\n",
        "            dna = dna + 'A'\n",
        "    return dna[::-1]\n",
        "def rev_palindrome(dna):\n",
        "  data=[]\n",
        "  for i in range(len(dna)-4):\n",
        "    for j in range(i+3,min(len(dna),i+12)):\n",
        "      string=dna[i:j+1]\n",
        "      if rna2dna(dna[i:j+1])==string:\n",
        "        data.append((i,j+1-i))\n",
        "  return data\n",
        "# test\n",
        "rev_palindrome(\"TCAATGCATGCGGGTCTATATGCAT\")"
      ],
      "metadata": {
        "colab": {
          "base_uri": "https://localhost:8080/"
        },
        "id": "Gw2c0hWEumpb",
        "outputId": "81a66c50-3d52-45ab-fbc8-63e0d66f26cc"
      },
      "execution_count": 16,
      "outputs": [
        {
          "output_type": "execute_result",
          "data": {
            "text/plain": [
              "[(3, 6), (4, 4), (5, 6), (6, 4), (16, 4), (17, 4), (19, 6), (20, 4)]"
            ]
          },
          "metadata": {},
          "execution_count": 16
        }
      ]
    },
    {
      "cell_type": "code",
      "source": [],
      "metadata": {
        "id": "CcstBpN8v91r"
      },
      "execution_count": null,
      "outputs": []
    }
  ]
}